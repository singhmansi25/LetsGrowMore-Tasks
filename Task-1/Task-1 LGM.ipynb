{
 "cells": [
  {
   "cell_type": "markdown",
   "id": "2b8c91c9",
   "metadata": {},
   "source": [
    "# LetsGrowMore Data Analytics Internship\n",
    "## Task-1"
   ]
  },
  {
   "cell_type": "markdown",
   "id": "a9be0a28",
   "metadata": {},
   "source": [
    "# Image to Pencil Sketch"
   ]
  },
  {
   "cell_type": "code",
   "execution_count": 1,
   "id": "102df50b",
   "metadata": {},
   "outputs": [],
   "source": [
    "# Import OpenCV library\n",
    "\n",
    "import cv2\n"
   ]
  },
  {
   "cell_type": "code",
   "execution_count": 2,
   "id": "30751731",
   "metadata": {},
   "outputs": [],
   "source": [
    "# Reading Image \n",
    "\n",
    "original_img = cv2.imread('Pooh.png', cv2.IMREAD_UNCHANGED)    \n",
    "\n",
    "#make mask of where the transparent bits are\n",
    "trans_mask = original_img[:,:,3] == 0\n",
    "\n",
    "#replace areas of transparency with white and not transparent\n",
    "original_img[trans_mask] = [255, 255, 255, 255]\n",
    "\n",
    "#new image\n",
    "new_img = cv2.cvtColor(original_img, cv2.COLOR_BGRA2BGR)"
   ]
  },
  {
   "cell_type": "code",
   "execution_count": 9,
   "id": "1ebc57ea",
   "metadata": {},
   "outputs": [
    {
     "data": {
      "text/plain": [
       "-1"
      ]
     },
     "execution_count": 9,
     "metadata": {},
     "output_type": "execute_result"
    }
   ],
   "source": [
    "# Original Image\n",
    "\n",
    "\n",
    "cv2.imshow(\"Winnie the Pooh\",new_img)\n",
    "cv2.waitKey(0)\n"
   ]
  },
  {
   "cell_type": "code",
   "execution_count": 10,
   "id": "7a3ca206",
   "metadata": {},
   "outputs": [
    {
     "data": {
      "text/plain": [
       "-1"
      ]
     },
     "execution_count": 10,
     "metadata": {},
     "output_type": "execute_result"
    }
   ],
   "source": [
    "# Gray Scale version of Original Image\n",
    "\n",
    "gray_image = cv2.cvtColor(new_img, cv2.COLOR_BGR2GRAY)\n",
    "cv2.imshow(\"New Pooh\", gray_image)\n",
    "cv2.waitKey(0)"
   ]
  },
  {
   "cell_type": "code",
   "execution_count": 11,
   "id": "02cf1b58",
   "metadata": {},
   "outputs": [
    {
     "data": {
      "text/plain": [
       "-1"
      ]
     },
     "execution_count": 11,
     "metadata": {},
     "output_type": "execute_result"
    }
   ],
   "source": [
    "# Inverted version of Gray Scale Image\n",
    "\n",
    "inverted_image = 255 - gray_image\n",
    "cv2.imshow(\"Inverted\", inverted_image)\n",
    "cv2.waitKey()"
   ]
  },
  {
   "cell_type": "code",
   "execution_count": 6,
   "id": "f2c32aaa",
   "metadata": {},
   "outputs": [],
   "source": [
    "# Blurred version of Inverted Image\n",
    "\n",
    "blurred = cv2.GaussianBlur(inverted_image, (21, 21), 0)"
   ]
  },
  {
   "cell_type": "code",
   "execution_count": 12,
   "id": "31c26f05",
   "metadata": {},
   "outputs": [
    {
     "data": {
      "text/plain": [
       "-1"
      ]
     },
     "execution_count": 12,
     "metadata": {},
     "output_type": "execute_result"
    }
   ],
   "source": [
    "# Inverting the Blurred verion of Image to get Pencil Sketch\n",
    "\n",
    "inverted_blurred = 255 - blurred\n",
    "pencil_sketch = cv2.divide(gray_image, inverted_blurred, scale=300.0)\n",
    "cv2.imshow(\"Sketch\", pencil_sketch)\n",
    "cv2.waitKey(0)"
   ]
  },
  {
   "cell_type": "code",
   "execution_count": 8,
   "id": "8c7d546a",
   "metadata": {},
   "outputs": [
    {
     "data": {
      "text/plain": [
       "-1"
      ]
     },
     "execution_count": 8,
     "metadata": {},
     "output_type": "execute_result"
    }
   ],
   "source": [
    "# Final Pencil Sketch and its Comparisson with Original Image\n",
    "\n",
    "cv2.imshow(\"original image\", new_img)\n",
    "cv2.imshow(\"pencil sketch\", pencil_sketch)\n",
    "cv2.waitKey(0)"
   ]
  },
  {
   "cell_type": "markdown",
   "id": "31fd20fa",
   "metadata": {},
   "source": [
    "## Done by- Mansi Singh"
   ]
  }
 ],
 "metadata": {
  "kernelspec": {
   "display_name": "Python 3",
   "language": "python",
   "name": "python3"
  },
  "language_info": {
   "codemirror_mode": {
    "name": "ipython",
    "version": 3
   },
   "file_extension": ".py",
   "mimetype": "text/x-python",
   "name": "python",
   "nbconvert_exporter": "python",
   "pygments_lexer": "ipython3",
   "version": "3.8.8"
  }
 },
 "nbformat": 4,
 "nbformat_minor": 5
}
